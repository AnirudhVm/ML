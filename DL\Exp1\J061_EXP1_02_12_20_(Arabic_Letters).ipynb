{
  "nbformat": 4,
  "nbformat_minor": 0,
  "metadata": {
    "colab": {
      "name": "J061_EXP1_02_12_20 (Arabic Letters).ipynb",
      "provenance": [],
      "collapsed_sections": [],
      "include_colab_link": true
    },
    "kernelspec": {
      "name": "python3",
      "display_name": "Python 3"
    },
    "accelerator": "GPU",
    "widgets": {
      "application/vnd.jupyter.widget-state+json": {
        "6a6074b84a4e4d788673fc74c6ec26cc": {
          "model_module": "@jupyter-widgets/controls",
          "model_name": "HBoxModel",
          "state": {
            "_view_name": "HBoxView",
            "_dom_classes": [],
            "_model_name": "HBoxModel",
            "_view_module": "@jupyter-widgets/controls",
            "_model_module_version": "1.5.0",
            "_view_count": null,
            "_view_module_version": "1.5.0",
            "box_style": "",
            "layout": "IPY_MODEL_fd82515feec74643b717a71f18bfb910",
            "_model_module": "@jupyter-widgets/controls",
            "children": [
              "IPY_MODEL_e326e25713c2454e902a934bca29fb00",
              "IPY_MODEL_ac2702e18da44415b2e6d7be8e484183"
            ]
          }
        },
        "fd82515feec74643b717a71f18bfb910": {
          "model_module": "@jupyter-widgets/base",
          "model_name": "LayoutModel",
          "state": {
            "_view_name": "LayoutView",
            "grid_template_rows": null,
            "right": null,
            "justify_content": null,
            "_view_module": "@jupyter-widgets/base",
            "overflow": null,
            "_model_module_version": "1.2.0",
            "_view_count": null,
            "flex_flow": null,
            "width": null,
            "min_width": null,
            "border": null,
            "align_items": null,
            "bottom": null,
            "_model_module": "@jupyter-widgets/base",
            "top": null,
            "grid_column": null,
            "overflow_y": null,
            "overflow_x": null,
            "grid_auto_flow": null,
            "grid_area": null,
            "grid_template_columns": null,
            "flex": null,
            "_model_name": "LayoutModel",
            "justify_items": null,
            "grid_row": null,
            "max_height": null,
            "align_content": null,
            "visibility": null,
            "align_self": null,
            "height": null,
            "min_height": null,
            "padding": null,
            "grid_auto_rows": null,
            "grid_gap": null,
            "max_width": null,
            "order": null,
            "_view_module_version": "1.2.0",
            "grid_template_areas": null,
            "object_position": null,
            "object_fit": null,
            "grid_auto_columns": null,
            "margin": null,
            "display": null,
            "left": null
          }
        },
        "e326e25713c2454e902a934bca29fb00": {
          "model_module": "@jupyter-widgets/controls",
          "model_name": "FloatProgressModel",
          "state": {
            "_view_name": "ProgressView",
            "style": "IPY_MODEL_8e0da15b63484042b6c9bee973823577",
            "_dom_classes": [],
            "description": "100%",
            "_model_name": "FloatProgressModel",
            "bar_style": "success",
            "max": 50,
            "_view_module": "@jupyter-widgets/controls",
            "_model_module_version": "1.5.0",
            "value": 50,
            "_view_count": null,
            "_view_module_version": "1.5.0",
            "orientation": "horizontal",
            "min": 0,
            "description_tooltip": null,
            "_model_module": "@jupyter-widgets/controls",
            "layout": "IPY_MODEL_1bf913ca0798481bae87ccba7c2fa1b7"
          }
        },
        "ac2702e18da44415b2e6d7be8e484183": {
          "model_module": "@jupyter-widgets/controls",
          "model_name": "HTMLModel",
          "state": {
            "_view_name": "HTMLView",
            "style": "IPY_MODEL_6022dbd97fe3421fad0224a86c9ae1e2",
            "_dom_classes": [],
            "description": "",
            "_model_name": "HTMLModel",
            "placeholder": "​",
            "_view_module": "@jupyter-widgets/controls",
            "_model_module_version": "1.5.0",
            "value": " 50/50 [03:17&lt;00:00,  3.95s/epoch, loss=0.102, accuracy=0.972, val_loss=0.345, val_accuracy=0.908]",
            "_view_count": null,
            "_view_module_version": "1.5.0",
            "description_tooltip": null,
            "_model_module": "@jupyter-widgets/controls",
            "layout": "IPY_MODEL_d4154b5c23704e34acfa2473a4c02b72"
          }
        },
        "8e0da15b63484042b6c9bee973823577": {
          "model_module": "@jupyter-widgets/controls",
          "model_name": "ProgressStyleModel",
          "state": {
            "_view_name": "StyleView",
            "_model_name": "ProgressStyleModel",
            "description_width": "initial",
            "_view_module": "@jupyter-widgets/base",
            "_model_module_version": "1.5.0",
            "_view_count": null,
            "_view_module_version": "1.2.0",
            "bar_color": null,
            "_model_module": "@jupyter-widgets/controls"
          }
        },
        "1bf913ca0798481bae87ccba7c2fa1b7": {
          "model_module": "@jupyter-widgets/base",
          "model_name": "LayoutModel",
          "state": {
            "_view_name": "LayoutView",
            "grid_template_rows": null,
            "right": null,
            "justify_content": null,
            "_view_module": "@jupyter-widgets/base",
            "overflow": null,
            "_model_module_version": "1.2.0",
            "_view_count": null,
            "flex_flow": null,
            "width": null,
            "min_width": null,
            "border": null,
            "align_items": null,
            "bottom": null,
            "_model_module": "@jupyter-widgets/base",
            "top": null,
            "grid_column": null,
            "overflow_y": null,
            "overflow_x": null,
            "grid_auto_flow": null,
            "grid_area": null,
            "grid_template_columns": null,
            "flex": null,
            "_model_name": "LayoutModel",
            "justify_items": null,
            "grid_row": null,
            "max_height": null,
            "align_content": null,
            "visibility": null,
            "align_self": null,
            "height": null,
            "min_height": null,
            "padding": null,
            "grid_auto_rows": null,
            "grid_gap": null,
            "max_width": null,
            "order": null,
            "_view_module_version": "1.2.0",
            "grid_template_areas": null,
            "object_position": null,
            "object_fit": null,
            "grid_auto_columns": null,
            "margin": null,
            "display": null,
            "left": null
          }
        },
        "6022dbd97fe3421fad0224a86c9ae1e2": {
          "model_module": "@jupyter-widgets/controls",
          "model_name": "DescriptionStyleModel",
          "state": {
            "_view_name": "StyleView",
            "_model_name": "DescriptionStyleModel",
            "description_width": "",
            "_view_module": "@jupyter-widgets/base",
            "_model_module_version": "1.5.0",
            "_view_count": null,
            "_view_module_version": "1.2.0",
            "_model_module": "@jupyter-widgets/controls"
          }
        },
        "d4154b5c23704e34acfa2473a4c02b72": {
          "model_module": "@jupyter-widgets/base",
          "model_name": "LayoutModel",
          "state": {
            "_view_name": "LayoutView",
            "grid_template_rows": null,
            "right": null,
            "justify_content": null,
            "_view_module": "@jupyter-widgets/base",
            "overflow": null,
            "_model_module_version": "1.2.0",
            "_view_count": null,
            "flex_flow": null,
            "width": null,
            "min_width": null,
            "border": null,
            "align_items": null,
            "bottom": null,
            "_model_module": "@jupyter-widgets/base",
            "top": null,
            "grid_column": null,
            "overflow_y": null,
            "overflow_x": null,
            "grid_auto_flow": null,
            "grid_area": null,
            "grid_template_columns": null,
            "flex": null,
            "_model_name": "LayoutModel",
            "justify_items": null,
            "grid_row": null,
            "max_height": null,
            "align_content": null,
            "visibility": null,
            "align_self": null,
            "height": null,
            "min_height": null,
            "padding": null,
            "grid_auto_rows": null,
            "grid_gap": null,
            "max_width": null,
            "order": null,
            "_view_module_version": "1.2.0",
            "grid_template_areas": null,
            "object_position": null,
            "object_fit": null,
            "grid_auto_columns": null,
            "margin": null,
            "display": null,
            "left": null
          }
        },
        "4ca3d8771ce74e96968622931b45b31e": {
          "model_module": "@jupyter-widgets/controls",
          "model_name": "HBoxModel",
          "state": {
            "_view_name": "HBoxView",
            "_dom_classes": [],
            "_model_name": "HBoxModel",
            "_view_module": "@jupyter-widgets/controls",
            "_model_module_version": "1.5.0",
            "_view_count": null,
            "_view_module_version": "1.5.0",
            "box_style": "",
            "layout": "IPY_MODEL_1b8f884527a54d908578f011eace19db",
            "_model_module": "@jupyter-widgets/controls",
            "children": [
              "IPY_MODEL_010bec2922ec4af6ac6ee9d07b0a0fe0",
              "IPY_MODEL_6ff2062cc6f044b6ad0997dd4092b92b"
            ]
          }
        },
        "1b8f884527a54d908578f011eace19db": {
          "model_module": "@jupyter-widgets/base",
          "model_name": "LayoutModel",
          "state": {
            "_view_name": "LayoutView",
            "grid_template_rows": null,
            "right": null,
            "justify_content": null,
            "_view_module": "@jupyter-widgets/base",
            "overflow": null,
            "_model_module_version": "1.2.0",
            "_view_count": null,
            "flex_flow": null,
            "width": null,
            "min_width": null,
            "border": null,
            "align_items": null,
            "bottom": null,
            "_model_module": "@jupyter-widgets/base",
            "top": null,
            "grid_column": null,
            "overflow_y": null,
            "overflow_x": null,
            "grid_auto_flow": null,
            "grid_area": null,
            "grid_template_columns": null,
            "flex": null,
            "_model_name": "LayoutModel",
            "justify_items": null,
            "grid_row": null,
            "max_height": null,
            "align_content": null,
            "visibility": null,
            "align_self": null,
            "height": null,
            "min_height": null,
            "padding": null,
            "grid_auto_rows": null,
            "grid_gap": null,
            "max_width": null,
            "order": null,
            "_view_module_version": "1.2.0",
            "grid_template_areas": null,
            "object_position": null,
            "object_fit": null,
            "grid_auto_columns": null,
            "margin": null,
            "display": null,
            "left": null
          }
        },
        "010bec2922ec4af6ac6ee9d07b0a0fe0": {
          "model_module": "@jupyter-widgets/controls",
          "model_name": "FloatProgressModel",
          "state": {
            "_view_name": "ProgressView",
            "style": "IPY_MODEL_aa26e1fa603c4c46beefd12e863b60ed",
            "_dom_classes": [],
            "description": "100%",
            "_model_name": "FloatProgressModel",
            "bar_style": "info",
            "max": 107,
            "_view_module": "@jupyter-widgets/controls",
            "_model_module_version": "1.5.0",
            "value": 107,
            "_view_count": null,
            "_view_module_version": "1.5.0",
            "orientation": "horizontal",
            "min": 0,
            "description_tooltip": null,
            "_model_module": "@jupyter-widgets/controls",
            "layout": "IPY_MODEL_4cdb006dd7724c219a0ac90311b93342"
          }
        },
        "6ff2062cc6f044b6ad0997dd4092b92b": {
          "model_module": "@jupyter-widgets/controls",
          "model_name": "HTMLModel",
          "state": {
            "_view_name": "HTMLView",
            "style": "IPY_MODEL_e4e6076f69504a9da0c11364a8a0d835",
            "_dom_classes": [],
            "description": "",
            "_model_name": "HTMLModel",
            "placeholder": "​",
            "_view_module": "@jupyter-widgets/controls",
            "_model_module_version": "1.5.0",
            "value": " 107/107 [00:03&lt;00:00, 34.2batch/s, loss=0.102, accuracy=0.972]",
            "_view_count": null,
            "_view_module_version": "1.5.0",
            "description_tooltip": null,
            "_model_module": "@jupyter-widgets/controls",
            "layout": "IPY_MODEL_ab74b8025b944d2ab37b2fe0194fcb7e"
          }
        },
        "aa26e1fa603c4c46beefd12e863b60ed": {
          "model_module": "@jupyter-widgets/controls",
          "model_name": "ProgressStyleModel",
          "state": {
            "_view_name": "StyleView",
            "_model_name": "ProgressStyleModel",
            "description_width": "initial",
            "_view_module": "@jupyter-widgets/base",
            "_model_module_version": "1.5.0",
            "_view_count": null,
            "_view_module_version": "1.2.0",
            "bar_color": null,
            "_model_module": "@jupyter-widgets/controls"
          }
        },
        "4cdb006dd7724c219a0ac90311b93342": {
          "model_module": "@jupyter-widgets/base",
          "model_name": "LayoutModel",
          "state": {
            "_view_name": "LayoutView",
            "grid_template_rows": null,
            "right": null,
            "justify_content": null,
            "_view_module": "@jupyter-widgets/base",
            "overflow": null,
            "_model_module_version": "1.2.0",
            "_view_count": null,
            "flex_flow": null,
            "width": null,
            "min_width": null,
            "border": null,
            "align_items": null,
            "bottom": null,
            "_model_module": "@jupyter-widgets/base",
            "top": null,
            "grid_column": null,
            "overflow_y": null,
            "overflow_x": null,
            "grid_auto_flow": null,
            "grid_area": null,
            "grid_template_columns": null,
            "flex": null,
            "_model_name": "LayoutModel",
            "justify_items": null,
            "grid_row": null,
            "max_height": null,
            "align_content": null,
            "visibility": null,
            "align_self": null,
            "height": null,
            "min_height": null,
            "padding": null,
            "grid_auto_rows": null,
            "grid_gap": null,
            "max_width": null,
            "order": null,
            "_view_module_version": "1.2.0",
            "grid_template_areas": null,
            "object_position": null,
            "object_fit": null,
            "grid_auto_columns": null,
            "margin": null,
            "display": null,
            "left": null
          }
        },
        "e4e6076f69504a9da0c11364a8a0d835": {
          "model_module": "@jupyter-widgets/controls",
          "model_name": "DescriptionStyleModel",
          "state": {
            "_view_name": "StyleView",
            "_model_name": "DescriptionStyleModel",
            "description_width": "",
            "_view_module": "@jupyter-widgets/base",
            "_model_module_version": "1.5.0",
            "_view_count": null,
            "_view_module_version": "1.2.0",
            "_model_module": "@jupyter-widgets/controls"
          }
        },
        "ab74b8025b944d2ab37b2fe0194fcb7e": {
          "model_module": "@jupyter-widgets/base",
          "model_name": "LayoutModel",
          "state": {
            "_view_name": "LayoutView",
            "grid_template_rows": null,
            "right": null,
            "justify_content": null,
            "_view_module": "@jupyter-widgets/base",
            "overflow": null,
            "_model_module_version": "1.2.0",
            "_view_count": null,
            "flex_flow": null,
            "width": null,
            "min_width": null,
            "border": null,
            "align_items": null,
            "bottom": null,
            "_model_module": "@jupyter-widgets/base",
            "top": null,
            "grid_column": null,
            "overflow_y": null,
            "overflow_x": null,
            "grid_auto_flow": null,
            "grid_area": null,
            "grid_template_columns": null,
            "flex": null,
            "_model_name": "LayoutModel",
            "justify_items": null,
            "grid_row": null,
            "max_height": null,
            "align_content": null,
            "visibility": null,
            "align_self": null,
            "height": null,
            "min_height": null,
            "padding": null,
            "grid_auto_rows": null,
            "grid_gap": null,
            "max_width": null,
            "order": null,
            "_view_module_version": "1.2.0",
            "grid_template_areas": null,
            "object_position": null,
            "object_fit": null,
            "grid_auto_columns": null,
            "margin": null,
            "display": null,
            "left": null
          }
        }
      }
    }
  },
  "cells": [
    {
      "cell_type": "markdown",
      "metadata": {
        "id": "view-in-github",
        "colab_type": "text"
      },
      "source": [
        "<a href=\"https://colab.research.google.com/github/AnirudhVm/ML/blob/master/DL%5CExp1%5CJ061_EXP1_02_12_20_(Arabic_Letters).ipynb\" target=\"_parent\"><img src=\"https://colab.research.google.com/assets/colab-badge.svg\" alt=\"Open In Colab\"/></a>"
      ]
    },
    {
      "cell_type": "markdown",
      "metadata": {
        "id": "lrE8Cx9wNYXZ"
      },
      "source": [
        "# **Handwriting recognition of Arabic Alphabets**"
      ]
    },
    {
      "cell_type": "markdown",
      "metadata": {
        "id": "Uq4EsCoxNR3j"
      },
      "source": [
        "# **Importing relevant libraries**"
      ]
    },
    {
      "cell_type": "code",
      "metadata": {
        "id": "_3X5X_U53LY_"
      },
      "source": [
        "import numpy as np\n",
        "import pandas as pd\n",
        "import matplotlib.pyplot as plt\n",
        "import seaborn as sns\n",
        "import random as rn\n",
        "import tensorflow as tf\n",
        "from keras.utils import to_categorical\n",
        "from tqdm.keras import TqdmCallback\n",
        "from keras.models import Sequential\n",
        "from keras.layers import Dense, Dropout, Flatten, Conv2D, MaxPool2D,BatchNormalization\n",
        "from keras.optimizers import RMSprop\n",
        "from keras.preprocessing.image import ImageDataGenerator\n",
        "from sklearn.metrics import confusion_matrix"
      ],
      "execution_count": 1,
      "outputs": []
    },
    {
      "cell_type": "markdown",
      "metadata": {
        "id": "SiUnqQ71NMVp"
      },
      "source": [
        "# **Reading the Data**"
      ]
    },
    {
      "cell_type": "code",
      "metadata": {
        "colab": {
          "base_uri": "https://localhost:8080/"
        },
        "id": "JBzuX1tI3_sM",
        "outputId": "a1ae26b9-fef8-473b-b0c0-1c63ea2aab17"
      },
      "source": [
        "!wget http://upscfever.com/datasets/csvTrainImages13440x1024.csv -P drive/app\n",
        "!wget http://upscfever.com/datasets/csvTrainLabel13440x1.csv -P drive/app\n",
        "!wget http://upscfever.com/datasets/csvTestImages3360x1024.csv -P drive/app\n",
        "!wget http://upscfever.com/datasets/csvTestLabel3360x1.csv -P drive/app"
      ],
      "execution_count": 2,
      "outputs": [
        {
          "output_type": "stream",
          "text": [
            "--2021-03-29 05:59:16--  http://upscfever.com/datasets/csvTrainImages13440x1024.csv\n",
            "Resolving upscfever.com (upscfever.com)... 104.21.90.10, 172.67.193.2, 2606:4700:3033::ac43:c102, ...\n",
            "Connecting to upscfever.com (upscfever.com)|104.21.90.10|:80... connected.\n",
            "HTTP request sent, awaiting response... 301 Moved Permanently\n",
            "Location: https://upscfever.com/datasets/csvTrainImages13440x1024.csv [following]\n",
            "--2021-03-29 05:59:16--  https://upscfever.com/datasets/csvTrainImages13440x1024.csv\n",
            "Connecting to upscfever.com (upscfever.com)|104.21.90.10|:443... connected.\n",
            "HTTP request sent, awaiting response... 200 OK\n",
            "Length: unspecified [text/csv]\n",
            "Saving to: ‘drive/app/csvTrainImages13440x1024.csv’\n",
            "\n",
            "csvTrainImages13440     [            <=>     ]  28.22M  11.2MB/s    in 2.5s    \n",
            "\n",
            "2021-03-29 05:59:20 (11.2 MB/s) - ‘drive/app/csvTrainImages13440x1024.csv’ saved [29593405]\n",
            "\n",
            "--2021-03-29 05:59:20--  http://upscfever.com/datasets/csvTrainLabel13440x1.csv\n",
            "Resolving upscfever.com (upscfever.com)... 104.21.90.10, 172.67.193.2, 2606:4700:3033::ac43:c102, ...\n",
            "Connecting to upscfever.com (upscfever.com)|104.21.90.10|:80... connected.\n",
            "HTTP request sent, awaiting response... 301 Moved Permanently\n",
            "Location: https://upscfever.com/datasets/csvTrainLabel13440x1.csv [following]\n",
            "--2021-03-29 05:59:20--  https://upscfever.com/datasets/csvTrainLabel13440x1.csv\n",
            "Connecting to upscfever.com (upscfever.com)|104.21.90.10|:443... connected.\n",
            "HTTP request sent, awaiting response... 200 OK\n",
            "Length: unspecified [text/csv]\n",
            "Saving to: ‘drive/app/csvTrainLabel13440x1.csv’\n",
            "\n",
            "csvTrainLabel13440x     [ <=>                ]  35.16K  --.-KB/s    in 0.006s  \n",
            "\n",
            "2021-03-29 05:59:21 (6.14 MB/s) - ‘drive/app/csvTrainLabel13440x1.csv’ saved [36000]\n",
            "\n",
            "--2021-03-29 05:59:21--  http://upscfever.com/datasets/csvTestImages3360x1024.csv\n",
            "Resolving upscfever.com (upscfever.com)... 172.67.193.2, 104.21.90.10, 2606:4700:3033::6815:5a0a, ...\n",
            "Connecting to upscfever.com (upscfever.com)|172.67.193.2|:80... connected.\n",
            "HTTP request sent, awaiting response... 301 Moved Permanently\n",
            "Location: https://upscfever.com/datasets/csvTestImages3360x1024.csv [following]\n",
            "--2021-03-29 05:59:22--  https://upscfever.com/datasets/csvTestImages3360x1024.csv\n",
            "Connecting to upscfever.com (upscfever.com)|172.67.193.2|:443... connected.\n",
            "HTTP request sent, awaiting response... 200 OK\n",
            "Length: unspecified [text/csv]\n",
            "Saving to: ‘drive/app/csvTestImages3360x1024.csv’\n",
            "\n",
            "csvTestImages3360x1     [     <=>            ]   7.06M  6.53MB/s    in 1.1s    \n",
            "\n",
            "2021-03-29 05:59:24 (6.53 MB/s) - ‘drive/app/csvTestImages3360x1024.csv’ saved [7400507]\n",
            "\n",
            "--2021-03-29 05:59:24--  http://upscfever.com/datasets/csvTestLabel3360x1.csv\n",
            "Resolving upscfever.com (upscfever.com)... 172.67.193.2, 104.21.90.10, 2606:4700:3033::6815:5a0a, ...\n",
            "Connecting to upscfever.com (upscfever.com)|172.67.193.2|:80... connected.\n",
            "HTTP request sent, awaiting response... 301 Moved Permanently\n",
            "Location: https://upscfever.com/datasets/csvTestLabel3360x1.csv [following]\n",
            "--2021-03-29 05:59:25--  https://upscfever.com/datasets/csvTestLabel3360x1.csv\n",
            "Connecting to upscfever.com (upscfever.com)|172.67.193.2|:443... connected.\n",
            "HTTP request sent, awaiting response... 200 OK\n",
            "Length: unspecified [text/csv]\n",
            "Saving to: ‘drive/app/csvTestLabel3360x1.csv’\n",
            "\n",
            "csvTestLabel3360x1.     [ <=>                ]   8.79K  --.-KB/s    in 0s      \n",
            "\n",
            "2021-03-29 05:59:25 (98.1 MB/s) - ‘drive/app/csvTestLabel3360x1.csv’ saved [9000]\n",
            "\n"
          ],
          "name": "stdout"
        }
      ]
    },
    {
      "cell_type": "code",
      "metadata": {
        "id": "3lbspmIM4VG_"
      },
      "source": [
        "train_data = pd.read_csv('drive/app/csvTrainImages13440x1024.csv', header = None)\n",
        "train_label = pd.read_csv('drive/app/csvTrainLabel13440x1.csv', header = None)\n",
        "test_data = pd.read_csv('drive/app/csvTestImages3360x1024.csv', header = None)\n",
        "test_label = pd.read_csv('drive/app/csvTestLabel3360x1.csv', header = None)"
      ],
      "execution_count": 3,
      "outputs": []
    },
    {
      "cell_type": "code",
      "metadata": {
        "colab": {
          "base_uri": "https://localhost:8080/"
        },
        "id": "GqVl7Dr34fOh",
        "outputId": "cd283550-c8bf-4c70-e5d7-7c04aa02b6c8"
      },
      "source": [
        "train_data.info()"
      ],
      "execution_count": 4,
      "outputs": [
        {
          "output_type": "stream",
          "text": [
            "<class 'pandas.core.frame.DataFrame'>\n",
            "RangeIndex: 13440 entries, 0 to 13439\n",
            "Columns: 1024 entries, 0 to 1023\n",
            "dtypes: int64(1024)\n",
            "memory usage: 105.0 MB\n"
          ],
          "name": "stdout"
        }
      ]
    },
    {
      "cell_type": "markdown",
      "metadata": {
        "id": "wnQkxot9I2il"
      },
      "source": [
        "# **Data Pre-processing**"
      ]
    },
    {
      "cell_type": "code",
      "metadata": {
        "id": "TNwkIEy84qAZ"
      },
      "source": [
        "train_data = train_data.iloc[:,:].values.astype('float32')\n",
        "train_label = train_label.iloc[:,:].values.astype('int32')-1\n",
        "test_data = test_data.iloc[:,:].values.astype('float32')\n",
        "test_label = test_label.iloc[:,:].values.astype('int32')-1"
      ],
      "execution_count": 5,
      "outputs": []
    },
    {
      "cell_type": "code",
      "metadata": {
        "colab": {
          "base_uri": "https://localhost:8080/"
        },
        "id": "LChVzvXK46hs",
        "outputId": "a09449fb-7c93-402d-c12c-61ccfe100d75"
      },
      "source": [
        "print(train_data.shape)\n",
        "print(train_label.shape)\n",
        "print(test_data.shape)\n",
        "print(test_label.shape)"
      ],
      "execution_count": 6,
      "outputs": [
        {
          "output_type": "stream",
          "text": [
            "(13440, 1024)\n",
            "(13440, 1)\n",
            "(3360, 1024)\n",
            "(3360, 1)\n"
          ],
          "name": "stdout"
        }
      ]
    },
    {
      "cell_type": "code",
      "metadata": {
        "id": "zb4URsRa5Tag"
      },
      "source": [
        "train_data = train_data.reshape(-1,32,32,1)\n",
        "test_data = test_data.reshape(-1,32,32,1)"
      ],
      "execution_count": 7,
      "outputs": []
    },
    {
      "cell_type": "code",
      "metadata": {
        "id": "CdjmDH4I6IN4"
      },
      "source": [
        "train_data = train_data / 255.0\n",
        "test_data = test_data / 255.0"
      ],
      "execution_count": 8,
      "outputs": []
    },
    {
      "cell_type": "code",
      "metadata": {
        "id": "tFqQoOeP6XtG"
      },
      "source": [
        "train_label = to_categorical(train_label)\n",
        "test_label = to_categorical(test_label)"
      ],
      "execution_count": 9,
      "outputs": []
    },
    {
      "cell_type": "code",
      "metadata": {
        "id": "ZlYWRxba9Fc6"
      },
      "source": [
        "np.random.seed(42)\n",
        "rn.seed(42)\n",
        "tf.random.set_seed(42)"
      ],
      "execution_count": 10,
      "outputs": []
    },
    {
      "cell_type": "markdown",
      "metadata": {
        "id": "TgAF5CNeIj97"
      },
      "source": [
        "# **Augmenting images**"
      ]
    },
    {
      "cell_type": "code",
      "metadata": {
        "id": "-jo3ZYiF-Y9w"
      },
      "source": [
        "datagen = ImageDataGenerator(\n",
        "        featurewise_center=False,  # set input mean to 0 over the dataset\n",
        "        samplewise_center=False,  # set each sample mean to 0\n",
        "        featurewise_std_normalization=False,  # divide inputs by std of the dataset\n",
        "        samplewise_std_normalization=False,  # divide each input by its std\n",
        "        zca_whitening=False,  # apply ZCA whitening\n",
        "        rotation_range=10,  # randomly rotate images in the range (degrees, 0 to 180)\n",
        "        zoom_range = 0.1, # Randomly zoom image \n",
        "        width_shift_range=0.1,  # randomly shift images horizontally (fraction of total width)\n",
        "        height_shift_range=0.1,  # randomly shift images vertically (fraction of total height)\n",
        "        horizontal_flip=False,  # randomly flip images\n",
        "        vertical_flip=False,\n",
        "        validation_split=0.2)  # randomly flip images"
      ],
      "execution_count": 11,
      "outputs": []
    },
    {
      "cell_type": "code",
      "metadata": {
        "id": "cq3rlnLGuEmS"
      },
      "source": [
        "train_generator = datagen.flow(x=train_data,y=train_label,subset='training',seed=42,batch_size=100) # set as training data\n",
        "validation_generator = datagen.flow(x=train_data,y=train_label,subset='validation',seed=42,batch_size=100)"
      ],
      "execution_count": 12,
      "outputs": []
    },
    {
      "cell_type": "markdown",
      "metadata": {
        "id": "R_k399_lIucy"
      },
      "source": [
        "# **Building CNN**"
      ]
    },
    {
      "cell_type": "code",
      "metadata": {
        "id": "vCaeI2ts61X8"
      },
      "source": [
        "cnn = Sequential()\n",
        "cnn.add(Conv2D(filters = 32, kernel_size = (5,5),padding = 'Same',activation ='relu', input_shape = (32,32,1)))\n",
        "cnn.add(Conv2D(filters = 32, kernel_size = (5,5),padding = 'Same', activation ='relu'))\n",
        "cnn.add(MaxPool2D(pool_size=(2,2)))\n",
        "cnn.add(Dropout(0.3))\n",
        "\n",
        "cnn.add(Conv2D(filters = 64, kernel_size = (3,3),padding = 'Same', activation ='relu'))\n",
        "cnn.add(Conv2D(filters = 64, kernel_size = (3,3),padding = 'Same',activation ='relu'))\n",
        "cnn.add(MaxPool2D(pool_size=(2,2), strides=(2,2)))\n",
        "cnn.add(Dropout(0.3))\n",
        "\n",
        "cnn.add(Conv2D(filters = 128, kernel_size = (3,3),padding = 'Same', activation ='relu'))\n",
        "cnn.add(Conv2D(filters = 128, kernel_size = (3,3),padding = 'Same',activation ='relu'))\n",
        "cnn.add(MaxPool2D(pool_size=(2,2), strides=(2,2)))\n",
        "cnn.add(Dropout(0.3))\n",
        "\n",
        "cnn.add(Flatten())\n",
        "cnn.add(Dense(units = 218, input_dim = 1024, activation = 'relu'))\n",
        "cnn.add(Dense(units = 218, activation = \"relu\"))\n",
        "cnn.add(Dropout(0.3))\n",
        "cnn.add(Dense(28, activation = \"softmax\"))"
      ],
      "execution_count": 32,
      "outputs": []
    },
    {
      "cell_type": "code",
      "metadata": {
        "colab": {
          "base_uri": "https://localhost:8080/"
        },
        "id": "hVH4jyUa9C7t",
        "outputId": "48991d10-39a1-478e-8b2e-fef94f127bab"
      },
      "source": [
        "cnn.summary()"
      ],
      "execution_count": 33,
      "outputs": [
        {
          "output_type": "stream",
          "text": [
            "Model: \"sequential_3\"\n",
            "_________________________________________________________________\n",
            "Layer (type)                 Output Shape              Param #   \n",
            "=================================================================\n",
            "conv2d_18 (Conv2D)           (None, 32, 32, 32)        832       \n",
            "_________________________________________________________________\n",
            "conv2d_19 (Conv2D)           (None, 32, 32, 32)        25632     \n",
            "_________________________________________________________________\n",
            "max_pooling2d_9 (MaxPooling2 (None, 16, 16, 32)        0         \n",
            "_________________________________________________________________\n",
            "dropout_12 (Dropout)         (None, 16, 16, 32)        0         \n",
            "_________________________________________________________________\n",
            "conv2d_20 (Conv2D)           (None, 16, 16, 64)        18496     \n",
            "_________________________________________________________________\n",
            "conv2d_21 (Conv2D)           (None, 16, 16, 64)        36928     \n",
            "_________________________________________________________________\n",
            "max_pooling2d_10 (MaxPooling (None, 8, 8, 64)          0         \n",
            "_________________________________________________________________\n",
            "dropout_13 (Dropout)         (None, 8, 8, 64)          0         \n",
            "_________________________________________________________________\n",
            "conv2d_22 (Conv2D)           (None, 8, 8, 128)         73856     \n",
            "_________________________________________________________________\n",
            "conv2d_23 (Conv2D)           (None, 8, 8, 128)         147584    \n",
            "_________________________________________________________________\n",
            "max_pooling2d_11 (MaxPooling (None, 4, 4, 128)         0         \n",
            "_________________________________________________________________\n",
            "dropout_14 (Dropout)         (None, 4, 4, 128)         0         \n",
            "_________________________________________________________________\n",
            "flatten_3 (Flatten)          (None, 2048)              0         \n",
            "_________________________________________________________________\n",
            "dense_9 (Dense)              (None, 218)               446682    \n",
            "_________________________________________________________________\n",
            "dense_10 (Dense)             (None, 218)               47742     \n",
            "_________________________________________________________________\n",
            "dropout_15 (Dropout)         (None, 218)               0         \n",
            "_________________________________________________________________\n",
            "dense_11 (Dense)             (None, 28)                6132      \n",
            "=================================================================\n",
            "Total params: 803,884\n",
            "Trainable params: 803,884\n",
            "Non-trainable params: 0\n",
            "_________________________________________________________________\n"
          ],
          "name": "stdout"
        }
      ]
    },
    {
      "cell_type": "code",
      "metadata": {
        "id": "KqcuM1cx-GyA"
      },
      "source": [
        "cnn.compile(loss=\"categorical_crossentropy\", optimizer=\"rmsprop\", metrics=[\"accuracy\"])"
      ],
      "execution_count": 34,
      "outputs": []
    },
    {
      "cell_type": "markdown",
      "metadata": {
        "id": "2qcQFvPgIePK"
      },
      "source": [
        "# **Fitting the CNN to the training data**"
      ]
    },
    {
      "cell_type": "code",
      "metadata": {
        "id": "AF21l57uyGg3"
      },
      "source": [
        "model_checkpoint_callback = tf.keras.callbacks.ModelCheckpoint(filepath=\"best.hdf5\",save_weights_only=True,monitor='val_accuracy',mode='max',save_best_only=True)\n",
        "es = tf.keras.callbacks.EarlyStopping(monitor='val_accuracy',min_delta=0.003,patience=15,mode='max',restore_best_weights=True)"
      ],
      "execution_count": 35,
      "outputs": []
    },
    {
      "cell_type": "code",
      "metadata": {
        "colab": {
          "base_uri": "https://localhost:8080/",
          "height": 67,
          "referenced_widgets": [
            "6a6074b84a4e4d788673fc74c6ec26cc",
            "fd82515feec74643b717a71f18bfb910",
            "e326e25713c2454e902a934bca29fb00",
            "ac2702e18da44415b2e6d7be8e484183",
            "8e0da15b63484042b6c9bee973823577",
            "1bf913ca0798481bae87ccba7c2fa1b7",
            "6022dbd97fe3421fad0224a86c9ae1e2",
            "d4154b5c23704e34acfa2473a4c02b72",
            "4ca3d8771ce74e96968622931b45b31e",
            "1b8f884527a54d908578f011eace19db",
            "010bec2922ec4af6ac6ee9d07b0a0fe0",
            "6ff2062cc6f044b6ad0997dd4092b92b",
            "aa26e1fa603c4c46beefd12e863b60ed",
            "4cdb006dd7724c219a0ac90311b93342",
            "e4e6076f69504a9da0c11364a8a0d835",
            "ab74b8025b944d2ab37b2fe0194fcb7e"
          ]
        },
        "id": "QYjZlw2ovOLf",
        "outputId": "05411c44-29eb-4810-c9b0-b6fc849a2f9b"
      },
      "source": [
        "history=cnn.fit(train_generator,validation_data = validation_generator,epochs=50,verbose=0,steps_per_epoch = train_data.shape[0]*0.8//100,validation_steps = train_data.shape[0]*0.2//100,callbacks=[model_checkpoint_callback, TqdmCallback(verbose=1),es])"
      ],
      "execution_count": 36,
      "outputs": [
        {
          "output_type": "display_data",
          "data": {
            "application/vnd.jupyter.widget-view+json": {
              "model_id": "6a6074b84a4e4d788673fc74c6ec26cc",
              "version_minor": 0,
              "version_major": 2
            },
            "text/plain": [
              "HBox(children=(FloatProgress(value=1.0, bar_style='info', max=1.0), HTML(value='')))"
            ]
          },
          "metadata": {
            "tags": []
          }
        },
        {
          "output_type": "display_data",
          "data": {
            "application/vnd.jupyter.widget-view+json": {
              "model_id": "4ca3d8771ce74e96968622931b45b31e",
              "version_minor": 0,
              "version_major": 2
            },
            "text/plain": [
              "HBox(children=(FloatProgress(value=1.0, bar_style='info', max=1.0), HTML(value='')))"
            ]
          },
          "metadata": {
            "tags": []
          }
        },
        {
          "output_type": "stream",
          "text": [
            "\n"
          ],
          "name": "stdout"
        }
      ]
    },
    {
      "cell_type": "code",
      "metadata": {
        "colab": {
          "base_uri": "https://localhost:8080/"
        },
        "id": "osyZ6n2o_gre",
        "outputId": "d2dfa31a-5c5b-448b-a9bd-915803e41317"
      },
      "source": [
        "dev_acc=cnn.evaluate(test_data,test_label)"
      ],
      "execution_count": 37,
      "outputs": [
        {
          "output_type": "stream",
          "text": [
            "105/105 [==============================] - 0s 3ms/step - loss: 0.1022 - accuracy: 0.9774\n"
          ],
          "name": "stdout"
        }
      ]
    },
    {
      "cell_type": "markdown",
      "metadata": {
        "id": "MIH_20gGIEIn"
      },
      "source": [
        "**Plot Training Loss vs Validation Loss**"
      ]
    },
    {
      "cell_type": "code",
      "metadata": {
        "colab": {
          "base_uri": "https://localhost:8080/",
          "height": 458
        },
        "id": "yHf0WwfVDLOJ",
        "outputId": "b0fb45b4-9ee8-4f06-dfde-681db161aa16"
      },
      "source": [
        "plt.figure(figsize = (10,7))\n",
        "plt.plot(history.history['loss'], color = 'yellow')\n",
        "plt.plot(history.history['val_loss'], color = 'blue')\n",
        "plt.ylim((0,1))\n",
        "plt.title('Model loss')\n",
        "plt.ylabel('Loss')\n",
        "plt.xlabel('Epoch')\n",
        "plt.legend(['Train', 'Validation'], loc='upper left')\n",
        "plt.show()"
      ],
      "execution_count": 38,
      "outputs": [
        {
          "output_type": "display_data",
          "data": {
            "image/png": "[encoded data removed]",
            "text/plain": [
              "<Figure size 720x504 with 1 Axes>"
            ]
          },
          "metadata": {
            "tags": [],
            "needs_background": "light"
          }
        }
      ]
    },
    {
      "cell_type": "code",
      "metadata": {
        "id": "wIRUxjSSkQik"
      },
      "source": [
        ""
      ],
      "execution_count": 38,
      "outputs": []
    }
  ]
}
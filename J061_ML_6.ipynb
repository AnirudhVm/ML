{
  "nbformat": 4,
  "nbformat_minor": 0,
  "metadata": {
    "colab": {
      "name": "J061_ML_6.ipynb",
      "provenance": [],
      "authorship_tag": "ABX9TyNShcM5HwdAjTHA3VBNFruB",
      "include_colab_link": true
    },
    "kernelspec": {
      "name": "python3",
      "display_name": "Python 3"
    }
  },
  "cells": [
    {
      "cell_type": "markdown",
      "metadata": {
        "id": "view-in-github",
        "colab_type": "text"
      },
      "source": [
        "<a href=\"https://colab.research.google.com/github/AnirudhVm/ML/blob/master/J061_ML_6.ipynb\" target=\"_parent\"><img src=\"https://colab.research.google.com/assets/colab-badge.svg\" alt=\"Open In Colab\"/></a>"
      ]
    },
    {
      "cell_type": "markdown",
      "metadata": {
        "id": "lfl7-G2f2ljd",
        "colab_type": "text"
      },
      "source": [
        "### Neural Network"
      ]
    },
    {
      "cell_type": "code",
      "metadata": {
        "id": "x1s9F2Be2XoP",
        "colab_type": "code",
        "colab": {
          "base_uri": "https://localhost:8080/",
          "height": 71
        },
        "outputId": "d18c920a-a508-4001-8540-0ec135b4b153"
      },
      "source": [
        "import numpy as np\n",
        "import pandas as pd\n",
        "\n",
        "import matplotlib.pyplot as plt\n",
        "import seaborn as sns\n",
        "\n",
        "from sklearn.model_selection import train_test_split, cross_val_score\n",
        "from sklearn.preprocessing import StandardScaler\n",
        "\n",
        "from sklearn import linear_model\n",
        "from sklearn.model_selection import GridSearchCV, RandomizedSearchCV\n",
        "\n",
        "import warnings\n",
        "warnings.filterwarnings('ignore')\n",
        "\n",
        "np.random.seed(1)"
      ],
      "execution_count": 1,
      "outputs": [
        {
          "output_type": "stream",
          "text": [
            "/usr/local/lib/python3.6/dist-packages/statsmodels/tools/_testing.py:19: FutureWarning: pandas.util.testing is deprecated. Use the functions in the public API at pandas.testing instead.\n",
            "  import pandas.util.testing as tm\n"
          ],
          "name": "stderr"
        }
      ]
    },
    {
      "cell_type": "code",
      "metadata": {
        "id": "MDdt-c9A2oxF",
        "colab_type": "code",
        "colab": {}
      },
      "source": [
        "%matplotlib inline\n",
        "\n",
        "plt.rcParams['figure.figsize'] = [20.0, 7.0]\n",
        "plt.rcParams.update({'font.size': 22,})\n",
        "\n",
        "sns.set_palette('viridis')\n",
        "sns.set_style('white')\n",
        "sns.set_context('talk', font_scale=0.8)"
      ],
      "execution_count": 2,
      "outputs": []
    },
    {
      "cell_type": "code",
      "metadata": {
        "id": "KDTK1QOi2qnT",
        "colab_type": "code",
        "colab": {
          "base_uri": "https://localhost:8080/",
          "height": 629
        },
        "outputId": "3e154aa3-69df-4671-8900-ebf14e961752"
      },
      "source": [
        "!wget -O 2011gcn.csv https://raw.githubusercontent.com/pranavn91/blockchain/master/2011gcn.csv\n",
        "!wget -O tx2011partvertices_new.csv https://raw.githubusercontent.com/pranavn91/blockchain/master/tx2011partvertices_new.csv\n",
        "!wget -O tx2011partvertices.csv https://raw.githubusercontent.com/pranavn91/blockchain/master/tx2011partvertices.csv\n",
        "\n",
        "train1 = pd.read_csv('2011gcn.csv')\n",
        "train2 = pd.read_csv('tx2011partvertices_new.csv')\n",
        "train3 = pd.read_csv('tx2011partvertices.csv')\n",
        "\n",
        "print('Train 1 Shape: ', train1.shape)\n",
        "print('Train 2 Shape: ', train2.shape)\n",
        "print('Train 3 Shape: ', train3.shape)"
      ],
      "execution_count": 3,
      "outputs": [
        {
          "output_type": "stream",
          "text": [
            "--2020-08-30 19:31:53--  https://raw.githubusercontent.com/pranavn91/blockchain/master/2011gcn.csv\n",
            "Resolving raw.githubusercontent.com (raw.githubusercontent.com)... 151.101.0.133, 151.101.64.133, 151.101.128.133, ...\n",
            "Connecting to raw.githubusercontent.com (raw.githubusercontent.com)|151.101.0.133|:443... connected.\n",
            "HTTP request sent, awaiting response... 200 OK\n",
            "Length: 12563086 (12M) [text/plain]\n",
            "Saving to: ‘2011gcn.csv’\n",
            "\n",
            "2011gcn.csv         100%[===================>]  11.98M  21.3MB/s    in 0.6s    \n",
            "\n",
            "2020-08-30 19:31:54 (21.3 MB/s) - ‘2011gcn.csv’ saved [12563086/12563086]\n",
            "\n",
            "--2020-08-30 19:31:54--  https://raw.githubusercontent.com/pranavn91/blockchain/master/tx2011partvertices_new.csv\n",
            "Resolving raw.githubusercontent.com (raw.githubusercontent.com)... 151.101.0.133, 151.101.64.133, 151.101.128.133, ...\n",
            "Connecting to raw.githubusercontent.com (raw.githubusercontent.com)|151.101.0.133|:443... connected.\n",
            "HTTP request sent, awaiting response... 200 OK\n",
            "Length: 12501458 (12M) [text/plain]\n",
            "Saving to: ‘tx2011partvertices_new.csv’\n",
            "\n",
            "tx2011partvertices_ 100%[===================>]  11.92M  21.0MB/s    in 0.6s    \n",
            "\n",
            "2020-08-30 19:31:55 (21.0 MB/s) - ‘tx2011partvertices_new.csv’ saved [12501458/12501458]\n",
            "\n",
            "--2020-08-30 19:31:55--  https://raw.githubusercontent.com/pranavn91/blockchain/master/tx2011partvertices.csv\n",
            "Resolving raw.githubusercontent.com (raw.githubusercontent.com)... 151.101.0.133, 151.101.64.133, 151.101.128.133, ...\n",
            "Connecting to raw.githubusercontent.com (raw.githubusercontent.com)|151.101.0.133|:443... connected.\n",
            "HTTP request sent, awaiting response... 200 OK\n",
            "Length: 1934257 (1.8M) [text/plain]\n",
            "Saving to: ‘tx2011partvertices.csv’\n",
            "\n",
            "tx2011partvertices. 100%[===================>]   1.84M  8.95MB/s    in 0.2s    \n",
            "\n",
            "2020-08-30 19:31:55 (8.95 MB/s) - ‘tx2011partvertices.csv’ saved [1934257/1934257]\n",
            "\n",
            "Train 1 Shape:  (96498, 17)\n",
            "Train 2 Shape:  (96498, 20)\n",
            "Train 3 Shape:  (96498, 2)\n"
          ],
          "name": "stdout"
        }
      ]
    },
    {
      "cell_type": "code",
      "metadata": {
        "id": "PbXH9sK02sRs",
        "colab_type": "code",
        "colab": {
          "base_uri": "https://localhost:8080/",
          "height": 204
        },
        "outputId": "1af14faa-b9e3-4541-def8-ce306602f281"
      },
      "source": [
        "train1.rename(columns={'Unnamed: 0':'index'}, inplace=True)\n",
        "train1['index'] = train1['index'] + 1\n",
        "train1.head()"
      ],
      "execution_count": 4,
      "outputs": [
        {
          "output_type": "execute_result",
          "data": {
            "text/html": [
              "<div>\n",
              "<style scoped>\n",
              "    .dataframe tbody tr th:only-of-type {\n",
              "        vertical-align: middle;\n",
              "    }\n",
              "\n",
              "    .dataframe tbody tr th {\n",
              "        vertical-align: top;\n",
              "    }\n",
              "\n",
              "    .dataframe thead th {\n",
              "        text-align: right;\n",
              "    }\n",
              "</style>\n",
              "<table border=\"1\" class=\"dataframe\">\n",
              "  <thead>\n",
              "    <tr style=\"text-align: right;\">\n",
              "      <th></th>\n",
              "      <th>index</th>\n",
              "      <th>0</th>\n",
              "      <th>1</th>\n",
              "      <th>2</th>\n",
              "      <th>3</th>\n",
              "      <th>4</th>\n",
              "      <th>5</th>\n",
              "      <th>6</th>\n",
              "      <th>7</th>\n",
              "      <th>8</th>\n",
              "      <th>9</th>\n",
              "      <th>10</th>\n",
              "      <th>11</th>\n",
              "      <th>12</th>\n",
              "      <th>13</th>\n",
              "      <th>14</th>\n",
              "      <th>15</th>\n",
              "    </tr>\n",
              "  </thead>\n",
              "  <tbody>\n",
              "    <tr>\n",
              "      <th>0</th>\n",
              "      <td>1</td>\n",
              "      <td>0.0</td>\n",
              "      <td>4.811244e+07</td>\n",
              "      <td>0.0</td>\n",
              "      <td>0.0</td>\n",
              "      <td>5.298934e+07</td>\n",
              "      <td>0.0</td>\n",
              "      <td>5.215435e+07</td>\n",
              "      <td>0.0</td>\n",
              "      <td>0.0</td>\n",
              "      <td>4.293262e+05</td>\n",
              "      <td>3.994267e+07</td>\n",
              "      <td>6.251989e+07</td>\n",
              "      <td>0.0</td>\n",
              "      <td>0.0</td>\n",
              "      <td>2.670458e+07</td>\n",
              "      <td>8.313858e+07</td>\n",
              "    </tr>\n",
              "    <tr>\n",
              "      <th>1</th>\n",
              "      <td>2</td>\n",
              "      <td>0.0</td>\n",
              "      <td>3.477977e+05</td>\n",
              "      <td>0.0</td>\n",
              "      <td>0.0</td>\n",
              "      <td>3.777575e+05</td>\n",
              "      <td>0.0</td>\n",
              "      <td>3.757520e+05</td>\n",
              "      <td>0.0</td>\n",
              "      <td>0.0</td>\n",
              "      <td>6.889133e+03</td>\n",
              "      <td>3.001618e+05</td>\n",
              "      <td>4.527358e+05</td>\n",
              "      <td>0.0</td>\n",
              "      <td>0.0</td>\n",
              "      <td>1.915057e+05</td>\n",
              "      <td>6.009039e+05</td>\n",
              "    </tr>\n",
              "    <tr>\n",
              "      <th>2</th>\n",
              "      <td>3</td>\n",
              "      <td>0.0</td>\n",
              "      <td>6.455196e+07</td>\n",
              "      <td>0.0</td>\n",
              "      <td>0.0</td>\n",
              "      <td>7.110790e+07</td>\n",
              "      <td>0.0</td>\n",
              "      <td>6.997804e+07</td>\n",
              "      <td>0.0</td>\n",
              "      <td>0.0</td>\n",
              "      <td>5.670157e+05</td>\n",
              "      <td>5.356332e+07</td>\n",
              "      <td>8.388026e+07</td>\n",
              "      <td>0.0</td>\n",
              "      <td>0.0</td>\n",
              "      <td>3.583296e+07</td>\n",
              "      <td>1.115463e+08</td>\n",
              "    </tr>\n",
              "    <tr>\n",
              "      <th>3</th>\n",
              "      <td>4</td>\n",
              "      <td>0.0</td>\n",
              "      <td>2.009876e+08</td>\n",
              "      <td>0.0</td>\n",
              "      <td>0.0</td>\n",
              "      <td>2.214679e+08</td>\n",
              "      <td>0.0</td>\n",
              "      <td>2.174101e+08</td>\n",
              "      <td>0.0</td>\n",
              "      <td>0.0</td>\n",
              "      <td>1.342720e+06</td>\n",
              "      <td>1.665389e+08</td>\n",
              "      <td>2.614420e+08</td>\n",
              "      <td>0.0</td>\n",
              "      <td>0.0</td>\n",
              "      <td>1.116514e+08</td>\n",
              "      <td>3.472892e+08</td>\n",
              "    </tr>\n",
              "    <tr>\n",
              "      <th>4</th>\n",
              "      <td>5</td>\n",
              "      <td>0.0</td>\n",
              "      <td>2.384675e+05</td>\n",
              "      <td>0.0</td>\n",
              "      <td>0.0</td>\n",
              "      <td>2.597246e+05</td>\n",
              "      <td>0.0</td>\n",
              "      <td>2.577884e+05</td>\n",
              "      <td>0.0</td>\n",
              "      <td>0.0</td>\n",
              "      <td>4.202993e+03</td>\n",
              "      <td>2.042845e+05</td>\n",
              "      <td>3.103489e+05</td>\n",
              "      <td>0.0</td>\n",
              "      <td>0.0</td>\n",
              "      <td>1.315073e+05</td>\n",
              "      <td>4.120424e+05</td>\n",
              "    </tr>\n",
              "  </tbody>\n",
              "</table>\n",
              "</div>"
            ],
            "text/plain": [
              "   index    0             1    2  ...   12   13            14            15\n",
              "0      1  0.0  4.811244e+07  0.0  ...  0.0  0.0  2.670458e+07  8.313858e+07\n",
              "1      2  0.0  3.477977e+05  0.0  ...  0.0  0.0  1.915057e+05  6.009039e+05\n",
              "2      3  0.0  6.455196e+07  0.0  ...  0.0  0.0  3.583296e+07  1.115463e+08\n",
              "3      4  0.0  2.009876e+08  0.0  ...  0.0  0.0  1.116514e+08  3.472892e+08\n",
              "4      5  0.0  2.384675e+05  0.0  ...  0.0  0.0  1.315073e+05  4.120424e+05\n",
              "\n",
              "[5 rows x 17 columns]"
            ]
          },
          "metadata": {
            "tags": []
          },
          "execution_count": 4
        }
      ]
    },
    {
      "cell_type": "code",
      "metadata": {
        "id": "hrA4mmEI2uLE",
        "colab_type": "code",
        "colab": {
          "base_uri": "https://localhost:8080/",
          "height": 224
        },
        "outputId": "132d982d-81c8-4d4b-b097-0a32fe447227"
      },
      "source": [
        "train2.rename(columns={'Unnamed: 0':'index'}, inplace=True)\n",
        "train2.head()"
      ],
      "execution_count": 5,
      "outputs": [
        {
          "output_type": "execute_result",
          "data": {
            "text/html": [
              "<div>\n",
              "<style scoped>\n",
              "    .dataframe tbody tr th:only-of-type {\n",
              "        vertical-align: middle;\n",
              "    }\n",
              "\n",
              "    .dataframe tbody tr th {\n",
              "        vertical-align: top;\n",
              "    }\n",
              "\n",
              "    .dataframe thead th {\n",
              "        text-align: right;\n",
              "    }\n",
              "</style>\n",
              "<table border=\"1\" class=\"dataframe\">\n",
              "  <thead>\n",
              "    <tr style=\"text-align: right;\">\n",
              "      <th></th>\n",
              "      <th>index</th>\n",
              "      <th>txsize</th>\n",
              "      <th>txvirtualsize</th>\n",
              "      <th>txinputs_count</th>\n",
              "      <th>txoutputs_count</th>\n",
              "      <th>txinput_val</th>\n",
              "      <th>txoutput_val</th>\n",
              "      <th>txfee</th>\n",
              "      <th>Min_received</th>\n",
              "      <th>Max_received</th>\n",
              "      <th>Avg_received</th>\n",
              "      <th>Total_received</th>\n",
              "      <th>Stdev_received</th>\n",
              "      <th>Var_received</th>\n",
              "      <th>Min_sent</th>\n",
              "      <th>Max_sent</th>\n",
              "      <th>Avg_sent</th>\n",
              "      <th>Total_sent</th>\n",
              "      <th>Stdev_sent</th>\n",
              "      <th>Var_sent</th>\n",
              "    </tr>\n",
              "  </thead>\n",
              "  <tbody>\n",
              "    <tr>\n",
              "      <th>0</th>\n",
              "      <td>1</td>\n",
              "      <td>7369</td>\n",
              "      <td>7369</td>\n",
              "      <td>5</td>\n",
              "      <td>190</td>\n",
              "      <td>215000000.0</td>\n",
              "      <td>214600000.0</td>\n",
              "      <td>400000</td>\n",
              "      <td>0.0005</td>\n",
              "      <td>1.0000</td>\n",
              "      <td>0.011295</td>\n",
              "      <td>2.1460</td>\n",
              "      <td>0.081163</td>\n",
              "      <td>0.006587</td>\n",
              "      <td>0.0005</td>\n",
              "      <td>1.6700</td>\n",
              "      <td>0.4300</td>\n",
              "      <td>2.1500</td>\n",
              "      <td>0.703445</td>\n",
              "      <td>0.494835</td>\n",
              "    </tr>\n",
              "    <tr>\n",
              "      <th>1</th>\n",
              "      <td>2</td>\n",
              "      <td>293</td>\n",
              "      <td>293</td>\n",
              "      <td>1</td>\n",
              "      <td>3</td>\n",
              "      <td>4400000.0</td>\n",
              "      <td>4350000.0</td>\n",
              "      <td>50000</td>\n",
              "      <td>0.0010</td>\n",
              "      <td>0.0415</td>\n",
              "      <td>0.014500</td>\n",
              "      <td>0.0435</td>\n",
              "      <td>0.023383</td>\n",
              "      <td>0.000547</td>\n",
              "      <td>0.0440</td>\n",
              "      <td>0.0440</td>\n",
              "      <td>0.0440</td>\n",
              "      <td>0.0440</td>\n",
              "      <td>0.000000</td>\n",
              "      <td>0.000000</td>\n",
              "    </tr>\n",
              "    <tr>\n",
              "      <th>2</th>\n",
              "      <td>3</td>\n",
              "      <td>11139</td>\n",
              "      <td>11139</td>\n",
              "      <td>1</td>\n",
              "      <td>322</td>\n",
              "      <td>125000000.0</td>\n",
              "      <td>124400000.0</td>\n",
              "      <td>600000</td>\n",
              "      <td>0.0010</td>\n",
              "      <td>0.4460</td>\n",
              "      <td>0.003863</td>\n",
              "      <td>1.2440</td>\n",
              "      <td>0.024941</td>\n",
              "      <td>0.000622</td>\n",
              "      <td>1.2500</td>\n",
              "      <td>1.2500</td>\n",
              "      <td>1.2500</td>\n",
              "      <td>1.2500</td>\n",
              "      <td>0.000000</td>\n",
              "      <td>0.000000</td>\n",
              "    </tr>\n",
              "    <tr>\n",
              "      <th>3</th>\n",
              "      <td>4</td>\n",
              "      <td>495</td>\n",
              "      <td>495</td>\n",
              "      <td>1</td>\n",
              "      <td>9</td>\n",
              "      <td>27450000.0</td>\n",
              "      <td>27400000.0</td>\n",
              "      <td>50000</td>\n",
              "      <td>0.0010</td>\n",
              "      <td>0.2660</td>\n",
              "      <td>0.030444</td>\n",
              "      <td>0.2740</td>\n",
              "      <td>0.088333</td>\n",
              "      <td>0.007803</td>\n",
              "      <td>0.2745</td>\n",
              "      <td>0.2745</td>\n",
              "      <td>0.2745</td>\n",
              "      <td>0.2745</td>\n",
              "      <td>0.000000</td>\n",
              "      <td>0.000000</td>\n",
              "    </tr>\n",
              "    <tr>\n",
              "      <th>4</th>\n",
              "      <td>5</td>\n",
              "      <td>462</td>\n",
              "      <td>462</td>\n",
              "      <td>1</td>\n",
              "      <td>8</td>\n",
              "      <td>3000000.0</td>\n",
              "      <td>2950000.0</td>\n",
              "      <td>50000</td>\n",
              "      <td>0.0010</td>\n",
              "      <td>0.0225</td>\n",
              "      <td>0.003687</td>\n",
              "      <td>0.0295</td>\n",
              "      <td>0.007601</td>\n",
              "      <td>0.000058</td>\n",
              "      <td>0.0300</td>\n",
              "      <td>0.0300</td>\n",
              "      <td>0.0300</td>\n",
              "      <td>0.0300</td>\n",
              "      <td>0.000000</td>\n",
              "      <td>0.000000</td>\n",
              "    </tr>\n",
              "  </tbody>\n",
              "</table>\n",
              "</div>"
            ],
            "text/plain": [
              "   index  txsize  txvirtualsize  ...  Total_sent  Stdev_sent  Var_sent\n",
              "0      1    7369           7369  ...      2.1500    0.703445  0.494835\n",
              "1      2     293            293  ...      0.0440    0.000000  0.000000\n",
              "2      3   11139          11139  ...      1.2500    0.000000  0.000000\n",
              "3      4     495            495  ...      0.2745    0.000000  0.000000\n",
              "4      5     462            462  ...      0.0300    0.000000  0.000000\n",
              "\n",
              "[5 rows x 20 columns]"
            ]
          },
          "metadata": {
            "tags": []
          },
          "execution_count": 5
        }
      ]
    },
    {
      "cell_type": "code",
      "metadata": {
        "id": "_nn8dXWQ2vss",
        "colab_type": "code",
        "colab": {
          "base_uri": "https://localhost:8080/",
          "height": 204
        },
        "outputId": "dc3661aa-d50d-4f60-e99f-4a29930f8b7b"
      },
      "source": [
        "train3.rename(columns={'Unnamed: 0':'index'}, inplace=True)\n",
        "train3.head()"
      ],
      "execution_count": 6,
      "outputs": [
        {
          "output_type": "execute_result",
          "data": {
            "text/html": [
              "<div>\n",
              "<style scoped>\n",
              "    .dataframe tbody tr th:only-of-type {\n",
              "        vertical-align: middle;\n",
              "    }\n",
              "\n",
              "    .dataframe tbody tr th {\n",
              "        vertical-align: top;\n",
              "    }\n",
              "\n",
              "    .dataframe thead th {\n",
              "        text-align: right;\n",
              "    }\n",
              "</style>\n",
              "<table border=\"1\" class=\"dataframe\">\n",
              "  <thead>\n",
              "    <tr style=\"text-align: right;\">\n",
              "      <th></th>\n",
              "      <th>index</th>\n",
              "      <th>label</th>\n",
              "    </tr>\n",
              "  </thead>\n",
              "  <tbody>\n",
              "    <tr>\n",
              "      <th>0</th>\n",
              "      <td>1</td>\n",
              "      <td>unclassified</td>\n",
              "    </tr>\n",
              "    <tr>\n",
              "      <th>1</th>\n",
              "      <td>2</td>\n",
              "      <td>donations</td>\n",
              "    </tr>\n",
              "    <tr>\n",
              "      <th>2</th>\n",
              "      <td>3</td>\n",
              "      <td>unclassified</td>\n",
              "    </tr>\n",
              "    <tr>\n",
              "      <th>3</th>\n",
              "      <td>4</td>\n",
              "      <td>donations</td>\n",
              "    </tr>\n",
              "    <tr>\n",
              "      <th>4</th>\n",
              "      <td>5</td>\n",
              "      <td>donations</td>\n",
              "    </tr>\n",
              "  </tbody>\n",
              "</table>\n",
              "</div>"
            ],
            "text/plain": [
              "   index         label\n",
              "0      1  unclassified\n",
              "1      2     donations\n",
              "2      3  unclassified\n",
              "3      4     donations\n",
              "4      5     donations"
            ]
          },
          "metadata": {
            "tags": []
          },
          "execution_count": 6
        }
      ]
    },
    {
      "cell_type": "code",
      "metadata": {
        "id": "i2JHpjOK2xOL",
        "colab_type": "code",
        "colab": {}
      },
      "source": [
        "results = pd.merge(train3, train1, on='index', how='inner')\n",
        "\n",
        "# split data into X and y\n",
        "X = results.iloc[:,2:18]\n",
        "Y1 = results['label']"
      ],
      "execution_count": 7,
      "outputs": []
    },
    {
      "cell_type": "code",
      "metadata": {
        "id": "46Zwz6Ou2ywD",
        "colab_type": "code",
        "colab": {}
      },
      "source": [
        "from sklearn import preprocessing\n",
        "Y = pd.get_dummies(Y1)"
      ],
      "execution_count": 8,
      "outputs": []
    },
    {
      "cell_type": "code",
      "metadata": {
        "id": "gdBCV6Uo20cs",
        "colab_type": "code",
        "colab": {}
      },
      "source": [
        "seed = 1\n",
        "test_size = 0.4\n",
        "x_train, x_test, y_train, y_test = train_test_split(X, Y, test_size=test_size, random_state=seed)\n",
        "x_val, x_test, y_val, y_test = train_test_split(x_test, y_test, test_size= 0.5, random_state=seed)"
      ],
      "execution_count": 9,
      "outputs": []
    },
    {
      "cell_type": "code",
      "metadata": {
        "id": "-Gm5Bnk021zE",
        "colab_type": "code",
        "colab": {
          "base_uri": "https://localhost:8080/",
          "height": 119
        },
        "outputId": "9c0a5082-efa3-4725-a601-af3a2ee31ae5"
      },
      "source": [
        "print(x_train.shape)\n",
        "print(x_val.shape)\n",
        "print(x_test.shape)\n",
        "print(y_train.shape)\n",
        "print(y_val.shape)\n",
        "print(y_test.shape)"
      ],
      "execution_count": 10,
      "outputs": [
        {
          "output_type": "stream",
          "text": [
            "(57898, 16)\n",
            "(19300, 16)\n",
            "(19300, 16)\n",
            "(57898, 6)\n",
            "(19300, 6)\n",
            "(19300, 6)\n"
          ],
          "name": "stdout"
        }
      ]
    },
    {
      "cell_type": "code",
      "metadata": {
        "id": "XTPOtnZ423L8",
        "colab_type": "code",
        "colab": {}
      },
      "source": [
        "from keras import models\n",
        "from keras import layers"
      ],
      "execution_count": 11,
      "outputs": []
    },
    {
      "cell_type": "code",
      "metadata": {
        "id": "687D2cON241k",
        "colab_type": "code",
        "colab": {}
      },
      "source": [
        "nn = models.Sequential()"
      ],
      "execution_count": 12,
      "outputs": []
    },
    {
      "cell_type": "code",
      "metadata": {
        "id": "C5NeddoV26Pm",
        "colab_type": "code",
        "colab": {}
      },
      "source": [
        "nn.add(layers.Dense(512, activation = \"tanh\", input_shape = (16,)))\n",
        "nn.add(layers.Dense(256, activation = \"relu\"))\n",
        "nn.add(layers.Dense(6, activation = \"softmax\"))"
      ],
      "execution_count": 13,
      "outputs": []
    },
    {
      "cell_type": "code",
      "metadata": {
        "id": "wAf6d9pi274t",
        "colab_type": "code",
        "colab": {
          "base_uri": "https://localhost:8080/",
          "height": 255
        },
        "outputId": "5bcb8c38-b499-4f50-e293-9c825a68fbcd"
      },
      "source": [
        "nn.summary()"
      ],
      "execution_count": 14,
      "outputs": [
        {
          "output_type": "stream",
          "text": [
            "Model: \"sequential\"\n",
            "_________________________________________________________________\n",
            "Layer (type)                 Output Shape              Param #   \n",
            "=================================================================\n",
            "dense (Dense)                (None, 512)               8704      \n",
            "_________________________________________________________________\n",
            "dense_1 (Dense)              (None, 256)               131328    \n",
            "_________________________________________________________________\n",
            "dense_2 (Dense)              (None, 6)                 1542      \n",
            "=================================================================\n",
            "Total params: 141,574\n",
            "Trainable params: 141,574\n",
            "Non-trainable params: 0\n",
            "_________________________________________________________________\n"
          ],
          "name": "stdout"
        }
      ]
    },
    {
      "cell_type": "code",
      "metadata": {
        "id": "ZNUiAjnf29bU",
        "colab_type": "code",
        "colab": {}
      },
      "source": [
        "nn.compile(optimizer = \"sgd\", loss = 'categorical_crossentropy', metrics = ['accuracy'])"
      ],
      "execution_count": 15,
      "outputs": []
    },
    {
      "cell_type": "code",
      "metadata": {
        "id": "ZisciWsE2-28",
        "colab_type": "code",
        "colab": {
          "base_uri": "https://localhost:8080/",
          "height": 1000
        },
        "outputId": "cb5bc599-1385-46bd-dd96-a01cf835a982"
      },
      "source": [
        "fit=nn.fit(x_train, y_train,batch_size=128,epochs =50,validation_data=(x_val, y_val))"
      ],
      "execution_count": 16,
      "outputs": [
        {
          "output_type": "stream",
          "text": [
            "Epoch 1/50\n",
            "453/453 [==============================] - 3s 6ms/step - loss: 0.5670 - accuracy: 0.8634 - val_loss: 0.5548 - val_accuracy: 0.8643\n",
            "Epoch 2/50\n",
            "453/453 [==============================] - 2s 5ms/step - loss: 0.5567 - accuracy: 0.8654 - val_loss: 0.5631 - val_accuracy: 0.8643\n",
            "Epoch 3/50\n",
            "453/453 [==============================] - 2s 5ms/step - loss: 0.5539 - accuracy: 0.8658 - val_loss: 0.5620 - val_accuracy: 0.8640\n",
            "Epoch 4/50\n",
            "453/453 [==============================] - 3s 6ms/step - loss: 0.5534 - accuracy: 0.8657 - val_loss: 0.5499 - val_accuracy: 0.8650\n",
            "Epoch 5/50\n",
            "453/453 [==============================] - 2s 6ms/step - loss: 0.5509 - accuracy: 0.8658 - val_loss: 0.5527 - val_accuracy: 0.8641\n",
            "Epoch 6/50\n",
            "453/453 [==============================] - 3s 6ms/step - loss: 0.5518 - accuracy: 0.8657 - val_loss: 0.5677 - val_accuracy: 0.8655\n",
            "Epoch 7/50\n",
            "453/453 [==============================] - 3s 7ms/step - loss: 0.5504 - accuracy: 0.8660 - val_loss: 0.6010 - val_accuracy: 0.8635\n",
            "Epoch 8/50\n",
            "453/453 [==============================] - 3s 6ms/step - loss: 0.5505 - accuracy: 0.8661 - val_loss: 0.5516 - val_accuracy: 0.8653\n",
            "Epoch 9/50\n",
            "453/453 [==============================] - 3s 6ms/step - loss: 0.5497 - accuracy: 0.8659 - val_loss: 0.5548 - val_accuracy: 0.8657\n",
            "Epoch 10/50\n",
            "453/453 [==============================] - 3s 6ms/step - loss: 0.5492 - accuracy: 0.8661 - val_loss: 0.5650 - val_accuracy: 0.8656\n",
            "Epoch 11/50\n",
            "453/453 [==============================] - 3s 6ms/step - loss: 0.5486 - accuracy: 0.8660 - val_loss: 0.5550 - val_accuracy: 0.8654\n",
            "Epoch 12/50\n",
            "453/453 [==============================] - 3s 6ms/step - loss: 0.5480 - accuracy: 0.8661 - val_loss: 0.5557 - val_accuracy: 0.8658\n",
            "Epoch 13/50\n",
            "453/453 [==============================] - 3s 6ms/step - loss: 0.5481 - accuracy: 0.8662 - val_loss: 0.5518 - val_accuracy: 0.8652\n",
            "Epoch 14/50\n",
            "453/453 [==============================] - 3s 6ms/step - loss: 0.5478 - accuracy: 0.8664 - val_loss: 0.5547 - val_accuracy: 0.8658\n",
            "Epoch 15/50\n",
            "453/453 [==============================] - 2s 5ms/step - loss: 0.5467 - accuracy: 0.8662 - val_loss: 0.5546 - val_accuracy: 0.8657\n",
            "Epoch 16/50\n",
            "453/453 [==============================] - 2s 5ms/step - loss: 0.5469 - accuracy: 0.8665 - val_loss: 0.5576 - val_accuracy: 0.8653\n",
            "Epoch 17/50\n",
            "453/453 [==============================] - 3s 6ms/step - loss: 0.5470 - accuracy: 0.8663 - val_loss: 0.5532 - val_accuracy: 0.8656\n",
            "Epoch 18/50\n",
            "453/453 [==============================] - 2s 5ms/step - loss: 0.5464 - accuracy: 0.8662 - val_loss: 0.5517 - val_accuracy: 0.8655\n",
            "Epoch 19/50\n",
            "453/453 [==============================] - 2s 5ms/step - loss: 0.5465 - accuracy: 0.8664 - val_loss: 0.5513 - val_accuracy: 0.8657\n",
            "Epoch 20/50\n",
            "453/453 [==============================] - 2s 5ms/step - loss: 0.5459 - accuracy: 0.8665 - val_loss: 0.5603 - val_accuracy: 0.8659\n",
            "Epoch 21/50\n",
            "453/453 [==============================] - 2s 5ms/step - loss: 0.5461 - accuracy: 0.8665 - val_loss: 0.5518 - val_accuracy: 0.8658\n",
            "Epoch 22/50\n",
            "453/453 [==============================] - 2s 5ms/step - loss: 0.5454 - accuracy: 0.8666 - val_loss: 0.5553 - val_accuracy: 0.8658\n",
            "Epoch 23/50\n",
            "453/453 [==============================] - 2s 5ms/step - loss: 0.5457 - accuracy: 0.8666 - val_loss: 0.5476 - val_accuracy: 0.8659\n",
            "Epoch 24/50\n",
            "453/453 [==============================] - 2s 5ms/step - loss: 0.5456 - accuracy: 0.8667 - val_loss: 0.5680 - val_accuracy: 0.8625\n",
            "Epoch 25/50\n",
            "453/453 [==============================] - 2s 5ms/step - loss: 0.5453 - accuracy: 0.8665 - val_loss: 0.5456 - val_accuracy: 0.8658\n",
            "Epoch 26/50\n",
            "453/453 [==============================] - 2s 5ms/step - loss: 0.5449 - accuracy: 0.8667 - val_loss: 0.5517 - val_accuracy: 0.8658\n",
            "Epoch 27/50\n",
            "453/453 [==============================] - 2s 5ms/step - loss: 0.5453 - accuracy: 0.8667 - val_loss: 0.5619 - val_accuracy: 0.8658\n",
            "Epoch 28/50\n",
            "453/453 [==============================] - 2s 5ms/step - loss: 0.5449 - accuracy: 0.8669 - val_loss: 0.5458 - val_accuracy: 0.8661\n",
            "Epoch 29/50\n",
            "453/453 [==============================] - 2s 5ms/step - loss: 0.5447 - accuracy: 0.8668 - val_loss: 0.5441 - val_accuracy: 0.8660\n",
            "Epoch 30/50\n",
            "453/453 [==============================] - 3s 6ms/step - loss: 0.5444 - accuracy: 0.8670 - val_loss: 0.5537 - val_accuracy: 0.8660\n",
            "Epoch 31/50\n",
            "453/453 [==============================] - 2s 5ms/step - loss: 0.5445 - accuracy: 0.8669 - val_loss: 0.5570 - val_accuracy: 0.8658\n",
            "Epoch 32/50\n",
            "453/453 [==============================] - 2s 5ms/step - loss: 0.5443 - accuracy: 0.8670 - val_loss: 0.5448 - val_accuracy: 0.8661\n",
            "Epoch 33/50\n",
            "453/453 [==============================] - 2s 5ms/step - loss: 0.5444 - accuracy: 0.8670 - val_loss: 0.5459 - val_accuracy: 0.8660\n",
            "Epoch 34/50\n",
            "453/453 [==============================] - 2s 5ms/step - loss: 0.5441 - accuracy: 0.8670 - val_loss: 0.5444 - val_accuracy: 0.8660\n",
            "Epoch 35/50\n",
            "453/453 [==============================] - 2s 5ms/step - loss: 0.5438 - accuracy: 0.8669 - val_loss: 0.5498 - val_accuracy: 0.8659\n",
            "Epoch 36/50\n",
            "453/453 [==============================] - 2s 5ms/step - loss: 0.5438 - accuracy: 0.8670 - val_loss: 0.5467 - val_accuracy: 0.8662\n",
            "Epoch 37/50\n",
            "453/453 [==============================] - 3s 6ms/step - loss: 0.5443 - accuracy: 0.8672 - val_loss: 0.5502 - val_accuracy: 0.8657\n",
            "Epoch 38/50\n",
            "453/453 [==============================] - 3s 7ms/step - loss: 0.5440 - accuracy: 0.8672 - val_loss: 0.5483 - val_accuracy: 0.8662\n",
            "Epoch 39/50\n",
            "453/453 [==============================] - 3s 6ms/step - loss: 0.5436 - accuracy: 0.8672 - val_loss: 0.5453 - val_accuracy: 0.8666\n",
            "Epoch 40/50\n",
            "453/453 [==============================] - 2s 5ms/step - loss: 0.5434 - accuracy: 0.8671 - val_loss: 0.5510 - val_accuracy: 0.8665\n",
            "Epoch 41/50\n",
            "453/453 [==============================] - 2s 5ms/step - loss: 0.5438 - accuracy: 0.8671 - val_loss: 0.5443 - val_accuracy: 0.8663\n",
            "Epoch 42/50\n",
            "453/453 [==============================] - 2s 5ms/step - loss: 0.5435 - accuracy: 0.8672 - val_loss: 0.5451 - val_accuracy: 0.8665\n",
            "Epoch 43/50\n",
            "453/453 [==============================] - 2s 5ms/step - loss: 0.5438 - accuracy: 0.8672 - val_loss: 0.5505 - val_accuracy: 0.8660\n",
            "Epoch 44/50\n",
            "453/453 [==============================] - 3s 6ms/step - loss: 0.5430 - accuracy: 0.8671 - val_loss: 0.5449 - val_accuracy: 0.8663\n",
            "Epoch 45/50\n",
            "453/453 [==============================] - 3s 6ms/step - loss: 0.5432 - accuracy: 0.8674 - val_loss: 0.5428 - val_accuracy: 0.8666\n",
            "Epoch 46/50\n",
            "453/453 [==============================] - 2s 5ms/step - loss: 0.5431 - accuracy: 0.8674 - val_loss: 0.5475 - val_accuracy: 0.8662\n",
            "Epoch 47/50\n",
            "453/453 [==============================] - 3s 6ms/step - loss: 0.5434 - accuracy: 0.8673 - val_loss: 0.5470 - val_accuracy: 0.8667\n",
            "Epoch 48/50\n",
            "453/453 [==============================] - 2s 5ms/step - loss: 0.5428 - accuracy: 0.8674 - val_loss: 0.5464 - val_accuracy: 0.8663\n",
            "Epoch 49/50\n",
            "453/453 [==============================] - 2s 5ms/step - loss: 0.5433 - accuracy: 0.8675 - val_loss: 0.5439 - val_accuracy: 0.8663\n",
            "Epoch 50/50\n",
            "453/453 [==============================] - 2s 5ms/step - loss: 0.5430 - accuracy: 0.8675 - val_loss: 0.5484 - val_accuracy: 0.8667\n"
          ],
          "name": "stdout"
        }
      ]
    },
    {
      "cell_type": "code",
      "metadata": {
        "id": "I0Ra9W-z3AeM",
        "colab_type": "code",
        "colab": {
          "base_uri": "https://localhost:8080/",
          "height": 85
        },
        "outputId": "8204882b-651a-47f1-d6a4-45d1d1f05855"
      },
      "source": [
        "nn.evaluate(x_train,y_train)[1]\n",
        "nn.evaluate(x_val,y_val)[1]\n",
        "nn.evaluate(x_test,y_test)[1]"
      ],
      "execution_count": 17,
      "outputs": [
        {
          "output_type": "stream",
          "text": [
            "1810/1810 [==============================] - 2s 1ms/step - loss: 0.5467 - accuracy: 0.8671\n",
            "604/604 [==============================] - 1s 1ms/step - loss: 0.5484 - accuracy: 0.8667\n",
            "604/604 [==============================] - 1s 1ms/step - loss: 0.5527 - accuracy: 0.8644\n"
          ],
          "name": "stdout"
        },
        {
          "output_type": "execute_result",
          "data": {
            "text/plain": [
              "0.8643523454666138"
            ]
          },
          "metadata": {
            "tags": []
          },
          "execution_count": 17
        }
      ]
    },
    {
      "cell_type": "code",
      "metadata": {
        "id": "Wgtoa78f3gkE",
        "colab_type": "code",
        "colab": {
          "base_uri": "https://localhost:8080/",
          "height": 472
        },
        "outputId": "88f12270-a8d3-4592-8ed3-a149a37f3a32"
      },
      "source": [
        "loss_train = fit.history['loss']\n",
        "loss_val = fit.history['val_loss']\n",
        "epochs = range(1,51)\n",
        "plt.plot(epochs, loss_train, 'g', label='Training loss')\n",
        "plt.plot(epochs, loss_val, 'b', label='validation loss')\n",
        "plt.title('Training and Validation loss')\n",
        "plt.xlabel('Epochs')\n",
        "plt.ylabel('Loss')\n",
        "plt.legend()\n",
        "plt.show()"
      ],
      "execution_count": 18,
      "outputs": [
        {
          "output_type": "display_data",
          "data": {
            "image/png": "[encoded data removed]",
            "text/plain": [
              "<Figure size 1440x504 with 1 Axes>"
            ]
          },
          "metadata": {
            "tags": []
          }
        }
      ]
    },
    {
      "cell_type": "code",
      "metadata": {
        "id": "p7mhZw6I3je0",
        "colab_type": "code",
        "colab": {
          "base_uri": "https://localhost:8080/",
          "height": 472
        },
        "outputId": "2d03d83c-a5cc-4494-de05-aebd3bf42420"
      },
      "source": [
        "acc_train = fit.history['accuracy']\n",
        "acc_val = fit.history['val_accuracy']\n",
        "\n",
        "epochs = range(1,51)\n",
        "\n",
        "plt.plot(epochs, acc_train, 'k', label='Training accuracy')\n",
        "plt.plot(epochs, acc_val, 'r', label='validation accuracy')\n",
        "\n",
        "plt.title('Training and Validation accuracy')\n",
        "plt.xlabel('Epochs')\n",
        "plt.ylabel('Accuracy')\n",
        "plt.legend()\n",
        "plt.show()"
      ],
      "execution_count": 19,
      "outputs": [
        {
          "output_type": "display_data",
          "data": {
            "image/png": "[encoded data removed]",
            "text/plain": [
              "<Figure size 1440x504 with 1 Axes>"
            ]
          },
          "metadata": {
            "tags": []
          }
        }
      ]
    },
    {
      "cell_type": "code",
      "metadata": {
        "id": "bHwv8QQE3lpM",
        "colab_type": "code",
        "colab": {
          "base_uri": "https://localhost:8080/",
          "height": 34
        },
        "outputId": "66ec1e35-6fd9-4001-e0ce-14bd25b1c8d8"
      },
      "source": [
        "eva_loss, eva_accu = nn.evaluate(x= x_test, y= y_test)"
      ],
      "execution_count": 20,
      "outputs": [
        {
          "output_type": "stream",
          "text": [
            "604/604 [==============================] - 1s 1ms/step - loss: 0.5527 - accuracy: 0.8644\n"
          ],
          "name": "stdout"
        }
      ]
    },
    {
      "cell_type": "code",
      "metadata": {
        "id": "HwLno2p03nml",
        "colab_type": "code",
        "colab": {
          "base_uri": "https://localhost:8080/",
          "height": 51
        },
        "outputId": "6698cad8-0ee2-49aa-8f03-8582d7944bf7"
      },
      "source": [
        "print('Test_accuracy: ',eva_accu)\n",
        "print('Test_loss: ',eva_loss)"
      ],
      "execution_count": 21,
      "outputs": [
        {
          "output_type": "stream",
          "text": [
            "Test_accuracy:  0.8643523454666138\n",
            "Test_loss:  0.552736759185791\n"
          ],
          "name": "stdout"
        }
      ]
    },
    {
      "cell_type": "code",
      "metadata": {
        "id": "CpA_7LcV3o-V",
        "colab_type": "code",
        "colab": {}
      },
      "source": [
        ""
      ],
      "execution_count": null,
      "outputs": []
    }
  ]
}